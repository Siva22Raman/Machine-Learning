{
 "cells": [
  {
   "cell_type": "code",
   "execution_count": 1,
   "id": "baf7d1be",
   "metadata": {
    "_cell_guid": "b1076dfc-b9ad-4769-8c92-a6c4dae69d19",
    "_uuid": "8f2839f25d086af736a60e9eeb907d3b93b6e0e5",
    "execution": {
     "iopub.execute_input": "2023-12-29T10:04:55.089071Z",
     "iopub.status.busy": "2023-12-29T10:04:55.088573Z",
     "iopub.status.idle": "2023-12-29T10:04:55.531708Z",
     "shell.execute_reply": "2023-12-29T10:04:55.530133Z"
    },
    "papermill": {
     "duration": 0.453663,
     "end_time": "2023-12-29T10:04:55.535937",
     "exception": false,
     "start_time": "2023-12-29T10:04:55.082274",
     "status": "completed"
    },
    "tags": []
   },
   "outputs": [
    {
     "name": "stdout",
     "output_type": "stream",
     "text": [
      "/kaggle/input/iris/Iris.csv\n",
      "/kaggle/input/iris/database.sqlite\n"
     ]
    }
   ],
   "source": [
    "# This Python 3 environment comes with many helpful analytics libraries installed\n",
    "# It is defined by the kaggle/python Docker image: https://github.com/kaggle/docker-python\n",
    "# For example, here's several helpful packages to load\n",
    "\n",
    "import numpy as np # linear algebra\n",
    "import pandas as pd # data processing, CSV file I/O (e.g. pd.read_csv)\n",
    "\n",
    "# Input data files are available in the read-only \"../input/\" directory\n",
    "# For example, running this (by clicking run or pressing Shift+Enter) will list all files under the input directory\n",
    "\n",
    "import os\n",
    "for dirname, _, filenames in os.walk('/kaggle/input'):\n",
    "    for filename in filenames:\n",
    "        print(os.path.join(dirname, filename))\n",
    "\n",
    "# You can write up to 20GB to the current directory (/kaggle/working/) that gets preserved as output when you create a version using \"Save & Run All\" \n",
    "# You can also write temporary files to /kaggle/temp/, but they won't be saved outside of the current session"
   ]
  },
  {
   "cell_type": "code",
   "execution_count": 2,
   "id": "9ed91a88",
   "metadata": {
    "execution": {
     "iopub.execute_input": "2023-12-29T10:04:55.546086Z",
     "iopub.status.busy": "2023-12-29T10:04:55.545514Z",
     "iopub.status.idle": "2023-12-29T10:04:55.589868Z",
     "shell.execute_reply": "2023-12-29T10:04:55.588627Z"
    },
    "papermill": {
     "duration": 0.052368,
     "end_time": "2023-12-29T10:04:55.592638",
     "exception": false,
     "start_time": "2023-12-29T10:04:55.540270",
     "status": "completed"
    },
    "tags": []
   },
   "outputs": [
    {
     "data": {
      "text/html": [
       "<div>\n",
       "<style scoped>\n",
       "    .dataframe tbody tr th:only-of-type {\n",
       "        vertical-align: middle;\n",
       "    }\n",
       "\n",
       "    .dataframe tbody tr th {\n",
       "        vertical-align: top;\n",
       "    }\n",
       "\n",
       "    .dataframe thead th {\n",
       "        text-align: right;\n",
       "    }\n",
       "</style>\n",
       "<table border=\"1\" class=\"dataframe\">\n",
       "  <thead>\n",
       "    <tr style=\"text-align: right;\">\n",
       "      <th></th>\n",
       "      <th>Id</th>\n",
       "      <th>SepalLengthCm</th>\n",
       "      <th>SepalWidthCm</th>\n",
       "      <th>PetalLengthCm</th>\n",
       "      <th>PetalWidthCm</th>\n",
       "      <th>Species</th>\n",
       "    </tr>\n",
       "  </thead>\n",
       "  <tbody>\n",
       "    <tr>\n",
       "      <th>0</th>\n",
       "      <td>1</td>\n",
       "      <td>5.1</td>\n",
       "      <td>3.5</td>\n",
       "      <td>1.4</td>\n",
       "      <td>0.2</td>\n",
       "      <td>Iris-setosa</td>\n",
       "    </tr>\n",
       "    <tr>\n",
       "      <th>1</th>\n",
       "      <td>2</td>\n",
       "      <td>4.9</td>\n",
       "      <td>3.0</td>\n",
       "      <td>1.4</td>\n",
       "      <td>0.2</td>\n",
       "      <td>Iris-setosa</td>\n",
       "    </tr>\n",
       "    <tr>\n",
       "      <th>2</th>\n",
       "      <td>3</td>\n",
       "      <td>4.7</td>\n",
       "      <td>3.2</td>\n",
       "      <td>1.3</td>\n",
       "      <td>0.2</td>\n",
       "      <td>Iris-setosa</td>\n",
       "    </tr>\n",
       "    <tr>\n",
       "      <th>3</th>\n",
       "      <td>4</td>\n",
       "      <td>4.6</td>\n",
       "      <td>3.1</td>\n",
       "      <td>1.5</td>\n",
       "      <td>0.2</td>\n",
       "      <td>Iris-setosa</td>\n",
       "    </tr>\n",
       "    <tr>\n",
       "      <th>4</th>\n",
       "      <td>5</td>\n",
       "      <td>5.0</td>\n",
       "      <td>3.6</td>\n",
       "      <td>1.4</td>\n",
       "      <td>0.2</td>\n",
       "      <td>Iris-setosa</td>\n",
       "    </tr>\n",
       "    <tr>\n",
       "      <th>...</th>\n",
       "      <td>...</td>\n",
       "      <td>...</td>\n",
       "      <td>...</td>\n",
       "      <td>...</td>\n",
       "      <td>...</td>\n",
       "      <td>...</td>\n",
       "    </tr>\n",
       "    <tr>\n",
       "      <th>145</th>\n",
       "      <td>146</td>\n",
       "      <td>6.7</td>\n",
       "      <td>3.0</td>\n",
       "      <td>5.2</td>\n",
       "      <td>2.3</td>\n",
       "      <td>Iris-virginica</td>\n",
       "    </tr>\n",
       "    <tr>\n",
       "      <th>146</th>\n",
       "      <td>147</td>\n",
       "      <td>6.3</td>\n",
       "      <td>2.5</td>\n",
       "      <td>5.0</td>\n",
       "      <td>1.9</td>\n",
       "      <td>Iris-virginica</td>\n",
       "    </tr>\n",
       "    <tr>\n",
       "      <th>147</th>\n",
       "      <td>148</td>\n",
       "      <td>6.5</td>\n",
       "      <td>3.0</td>\n",
       "      <td>5.2</td>\n",
       "      <td>2.0</td>\n",
       "      <td>Iris-virginica</td>\n",
       "    </tr>\n",
       "    <tr>\n",
       "      <th>148</th>\n",
       "      <td>149</td>\n",
       "      <td>6.2</td>\n",
       "      <td>3.4</td>\n",
       "      <td>5.4</td>\n",
       "      <td>2.3</td>\n",
       "      <td>Iris-virginica</td>\n",
       "    </tr>\n",
       "    <tr>\n",
       "      <th>149</th>\n",
       "      <td>150</td>\n",
       "      <td>5.9</td>\n",
       "      <td>3.0</td>\n",
       "      <td>5.1</td>\n",
       "      <td>1.8</td>\n",
       "      <td>Iris-virginica</td>\n",
       "    </tr>\n",
       "  </tbody>\n",
       "</table>\n",
       "<p>150 rows × 6 columns</p>\n",
       "</div>"
      ],
      "text/plain": [
       "      Id  SepalLengthCm  SepalWidthCm  PetalLengthCm  PetalWidthCm  \\\n",
       "0      1            5.1           3.5            1.4           0.2   \n",
       "1      2            4.9           3.0            1.4           0.2   \n",
       "2      3            4.7           3.2            1.3           0.2   \n",
       "3      4            4.6           3.1            1.5           0.2   \n",
       "4      5            5.0           3.6            1.4           0.2   \n",
       "..   ...            ...           ...            ...           ...   \n",
       "145  146            6.7           3.0            5.2           2.3   \n",
       "146  147            6.3           2.5            5.0           1.9   \n",
       "147  148            6.5           3.0            5.2           2.0   \n",
       "148  149            6.2           3.4            5.4           2.3   \n",
       "149  150            5.9           3.0            5.1           1.8   \n",
       "\n",
       "            Species  \n",
       "0       Iris-setosa  \n",
       "1       Iris-setosa  \n",
       "2       Iris-setosa  \n",
       "3       Iris-setosa  \n",
       "4       Iris-setosa  \n",
       "..              ...  \n",
       "145  Iris-virginica  \n",
       "146  Iris-virginica  \n",
       "147  Iris-virginica  \n",
       "148  Iris-virginica  \n",
       "149  Iris-virginica  \n",
       "\n",
       "[150 rows x 6 columns]"
      ]
     },
     "execution_count": 2,
     "metadata": {},
     "output_type": "execute_result"
    }
   ],
   "source": [
    "df=pd.read_csv(\"/kaggle/input/iris/Iris.csv\")\n",
    "df"
   ]
  },
  {
   "cell_type": "code",
   "execution_count": 3,
   "id": "ddb36571",
   "metadata": {
    "execution": {
     "iopub.execute_input": "2023-12-29T10:04:55.602834Z",
     "iopub.status.busy": "2023-12-29T10:04:55.602469Z",
     "iopub.status.idle": "2023-12-29T10:04:57.208735Z",
     "shell.execute_reply": "2023-12-29T10:04:57.207493Z"
    },
    "papermill": {
     "duration": 1.614865,
     "end_time": "2023-12-29T10:04:57.211803",
     "exception": false,
     "start_time": "2023-12-29T10:04:55.596938",
     "status": "completed"
    },
    "tags": []
   },
   "outputs": [],
   "source": [
    "import matplotlib.pyplot as plt\n",
    "from sklearn.cluster import DBSCAN\n",
    "from sklearn.preprocessing import StandardScaler"
   ]
  },
  {
   "cell_type": "code",
   "execution_count": 4,
   "id": "09621d26",
   "metadata": {
    "execution": {
     "iopub.execute_input": "2023-12-29T10:04:57.222599Z",
     "iopub.status.busy": "2023-12-29T10:04:57.221857Z",
     "iopub.status.idle": "2023-12-29T10:04:57.237735Z",
     "shell.execute_reply": "2023-12-29T10:04:57.236495Z"
    },
    "papermill": {
     "duration": 0.024227,
     "end_time": "2023-12-29T10:04:57.240426",
     "exception": false,
     "start_time": "2023-12-29T10:04:57.216199",
     "status": "completed"
    },
    "tags": []
   },
   "outputs": [],
   "source": [
    "y=['SepalLengthCm','SepalWidthCm']\n",
    "x=df[y]\n",
    "x_stand=StandardScaler().fit_transform(x)\n"
   ]
  },
  {
   "cell_type": "code",
   "execution_count": 5,
   "id": "100300e4",
   "metadata": {
    "execution": {
     "iopub.execute_input": "2023-12-29T10:04:57.251354Z",
     "iopub.status.busy": "2023-12-29T10:04:57.250908Z",
     "iopub.status.idle": "2023-12-29T10:04:57.258463Z",
     "shell.execute_reply": "2023-12-29T10:04:57.257399Z"
    },
    "papermill": {
     "duration": 0.016227,
     "end_time": "2023-12-29T10:04:57.261161",
     "exception": false,
     "start_time": "2023-12-29T10:04:57.244934",
     "status": "completed"
    },
    "tags": []
   },
   "outputs": [],
   "source": [
    "dbs=DBSCAN(eps=0.5,min_samples=4)\n",
    "cluster=dbs.fit_predict(x_stand)"
   ]
  },
  {
   "cell_type": "code",
   "execution_count": 6,
   "id": "187d8f0a",
   "metadata": {
    "execution": {
     "iopub.execute_input": "2023-12-29T10:04:57.272418Z",
     "iopub.status.busy": "2023-12-29T10:04:57.271354Z",
     "iopub.status.idle": "2023-12-29T10:04:57.279657Z",
     "shell.execute_reply": "2023-12-29T10:04:57.278543Z"
    },
    "papermill": {
     "duration": 0.016403,
     "end_time": "2023-12-29T10:04:57.282046",
     "exception": false,
     "start_time": "2023-12-29T10:04:57.265643",
     "status": "completed"
    },
    "tags": []
   },
   "outputs": [
    {
     "data": {
      "text/plain": [
       "array([ 0,  0,  0,  0,  0,  0,  0,  0,  0,  0,  0,  0,  0,  0,  0, -1,  0,\n",
       "        0,  0,  0,  0,  0,  0,  0,  0,  0,  0,  0,  0,  0,  0,  0, -1, -1,\n",
       "        0,  0,  0,  0,  0,  0,  0, -1,  0,  0,  0,  0,  0,  0,  0,  0,  0,\n",
       "        0,  0,  0,  0,  0,  0,  0,  0,  0, -1,  0,  0,  0,  0,  0,  0,  0,\n",
       "        0,  0,  0,  0,  0,  0,  0,  0,  0,  0,  0,  0,  0,  0,  0,  0,  0,\n",
       "        0,  0,  0,  0,  0,  0,  0,  0,  0,  0,  0,  0,  0,  0,  0,  0,  0,\n",
       "        0,  0,  0,  0,  0,  0,  0, -1,  0,  0,  0,  0,  0,  0,  0, -1,  0,\n",
       "        0,  0,  0,  0,  0,  0,  0,  0,  0,  0,  0,  0, -1,  0,  0,  0,  0,\n",
       "        0,  0,  0,  0,  0,  0,  0,  0,  0,  0,  0,  0,  0,  0])"
      ]
     },
     "execution_count": 6,
     "metadata": {},
     "output_type": "execute_result"
    }
   ],
   "source": [
    "cluster\n"
   ]
  },
  {
   "cell_type": "code",
   "execution_count": 7,
   "id": "5c3f83f0",
   "metadata": {
    "execution": {
     "iopub.execute_input": "2023-12-29T10:04:57.292454Z",
     "iopub.status.busy": "2023-12-29T10:04:57.292035Z",
     "iopub.status.idle": "2023-12-29T10:04:57.305717Z",
     "shell.execute_reply": "2023-12-29T10:04:57.304701Z"
    },
    "papermill": {
     "duration": 0.023033,
     "end_time": "2023-12-29T10:04:57.309518",
     "exception": false,
     "start_time": "2023-12-29T10:04:57.286485",
     "status": "completed"
    },
    "tags": []
   },
   "outputs": [],
   "source": [
    "centroids=pd.DataFrame(x_stand).groupby(cluster).mean().values\n"
   ]
  },
  {
   "cell_type": "code",
   "execution_count": 8,
   "id": "edf7bcc5",
   "metadata": {
    "execution": {
     "iopub.execute_input": "2023-12-29T10:04:57.320366Z",
     "iopub.status.busy": "2023-12-29T10:04:57.319890Z",
     "iopub.status.idle": "2023-12-29T10:04:57.678934Z",
     "shell.execute_reply": "2023-12-29T10:04:57.677706Z"
    },
    "papermill": {
     "duration": 0.367291,
     "end_time": "2023-12-29T10:04:57.681400",
     "exception": false,
     "start_time": "2023-12-29T10:04:57.314109",
     "status": "completed"
    },
    "tags": []
   },
   "outputs": [
    {
     "data": {
      "image/png": "[encoded data removed]",
      "text/plain": [
       "<Figure size 800x600 with 1 Axes>"
      ]
     },
     "metadata": {},
     "output_type": "display_data"
    }
   ],
   "source": [
    "plt.figure(figsize=(8,6))\n",
    "plt.scatter(x['SepalLengthCm'],x['SepalWidthCm'],c=cluster,cmap='rainbow', edgecolors='k',s=50)\n",
    "plt.xlabel('SepalLength')\n",
    "plt.ylabel('SepalWidth')\n",
    "plt.title('DBSCAN Clustering of Iris')\n",
    "plt.show()\n"
   ]
  }
 ],
 "metadata": {
  "kaggle": {
   "accelerator": "none",
   "dataSources": [
    {
     "datasetId": 19,
     "sourceId": 420,
     "sourceType": "datasetVersion"
    }
   ],
   "dockerImageVersionId": 30626,
   "isGpuEnabled": false,
   "isInternetEnabled": true,
   "language": "python",
   "sourceType": "notebook"
  },
  "kernelspec": {
   "display_name": "Python 3",
   "language": "python",
   "name": "python3"
  },
  "language_info": {
   "codemirror_mode": {
    "name": "ipython",
    "version": 3
   },
   "file_extension": ".py",
   "mimetype": "text/x-python",
   "name": "python",
   "nbconvert_exporter": "python",
   "pygments_lexer": "ipython3",
   "version": "3.10.12"
  },
  "papermill": {
   "default_parameters": {},
   "duration": 6.662045,
   "end_time": "2023-12-29T10:04:58.308439",
   "environment_variables": {},
   "exception": null,
   "input_path": "__notebook__.ipynb",
   "output_path": "__notebook__.ipynb",
   "parameters": {},
   "start_time": "2023-12-29T10:04:51.646394",
   "version": "2.4.0"
  }
 },
 "nbformat": 4,
 "nbformat_minor": 5
}
