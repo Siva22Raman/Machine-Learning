{
 "cells": [
  {
   "cell_type": "code",
   "execution_count": 1,
   "id": "d96f4124",
   "metadata": {
    "_cell_guid": "b1076dfc-b9ad-4769-8c92-a6c4dae69d19",
    "_uuid": "8f2839f25d086af736a60e9eeb907d3b93b6e0e5",
    "execution": {
     "iopub.execute_input": "2023-12-29T09:22:22.177762Z",
     "iopub.status.busy": "2023-12-29T09:22:22.177286Z",
     "iopub.status.idle": "2023-12-29T09:22:22.557951Z",
     "shell.execute_reply": "2023-12-29T09:22:22.556600Z"
    },
    "papermill": {
     "duration": 0.388656,
     "end_time": "2023-12-29T09:22:22.560332",
     "exception": false,
     "start_time": "2023-12-29T09:22:22.171676",
     "status": "completed"
    },
    "tags": []
   },
   "outputs": [
    {
     "name": "stdout",
     "output_type": "stream",
     "text": [
      "/kaggle/input/iris/Iris.csv\n",
      "/kaggle/input/iris/database.sqlite\n"
     ]
    }
   ],
   "source": [
    "# This Python 3 environment comes with many helpful analytics libraries installed\n",
    "# It is defined by the kaggle/python Docker image: https://github.com/kaggle/docker-python\n",
    "# For example, here's several helpful packages to load\n",
    "\n",
    "import numpy as np # linear algebra\n",
    "import pandas as pd # data processing, CSV file I/O (e.g. pd.read_csv)\n",
    "\n",
    "# Input data files are available in the read-only \"../input/\" directory\n",
    "# For example, running this (by clicking run or pressing Shift+Enter) will list all files under the input directory\n",
    "\n",
    "import os\n",
    "for dirname, _, filenames in os.walk('/kaggle/input'):\n",
    "    for filename in filenames:\n",
    "        print(os.path.join(dirname, filename))\n",
    "\n",
    "# You can write up to 20GB to the current directory (/kaggle/working/) that gets preserved as output when you create a version using \"Save & Run All\" \n",
    "# You can also write temporary files to /kaggle/temp/, but they won't be saved outside of the current session"
   ]
  },
  {
   "cell_type": "code",
   "execution_count": 2,
   "id": "9db28330",
   "metadata": {
    "execution": {
     "iopub.execute_input": "2023-12-29T09:22:22.571308Z",
     "iopub.status.busy": "2023-12-29T09:22:22.570787Z",
     "iopub.status.idle": "2023-12-29T09:22:22.613148Z",
     "shell.execute_reply": "2023-12-29T09:22:22.612185Z"
    },
    "papermill": {
     "duration": 0.050149,
     "end_time": "2023-12-29T09:22:22.616095",
     "exception": false,
     "start_time": "2023-12-29T09:22:22.565946",
     "status": "completed"
    },
    "tags": []
   },
   "outputs": [
    {
     "data": {
      "text/html": [
       "<div>\n",
       "<style scoped>\n",
       "    .dataframe tbody tr th:only-of-type {\n",
       "        vertical-align: middle;\n",
       "    }\n",
       "\n",
       "    .dataframe tbody tr th {\n",
       "        vertical-align: top;\n",
       "    }\n",
       "\n",
       "    .dataframe thead th {\n",
       "        text-align: right;\n",
       "    }\n",
       "</style>\n",
       "<table border=\"1\" class=\"dataframe\">\n",
       "  <thead>\n",
       "    <tr style=\"text-align: right;\">\n",
       "      <th></th>\n",
       "      <th>Id</th>\n",
       "      <th>SepalLengthCm</th>\n",
       "      <th>SepalWidthCm</th>\n",
       "      <th>PetalLengthCm</th>\n",
       "      <th>PetalWidthCm</th>\n",
       "      <th>Species</th>\n",
       "    </tr>\n",
       "  </thead>\n",
       "  <tbody>\n",
       "    <tr>\n",
       "      <th>0</th>\n",
       "      <td>1</td>\n",
       "      <td>5.1</td>\n",
       "      <td>3.5</td>\n",
       "      <td>1.4</td>\n",
       "      <td>0.2</td>\n",
       "      <td>Iris-setosa</td>\n",
       "    </tr>\n",
       "    <tr>\n",
       "      <th>1</th>\n",
       "      <td>2</td>\n",
       "      <td>4.9</td>\n",
       "      <td>3.0</td>\n",
       "      <td>1.4</td>\n",
       "      <td>0.2</td>\n",
       "      <td>Iris-setosa</td>\n",
       "    </tr>\n",
       "    <tr>\n",
       "      <th>2</th>\n",
       "      <td>3</td>\n",
       "      <td>4.7</td>\n",
       "      <td>3.2</td>\n",
       "      <td>1.3</td>\n",
       "      <td>0.2</td>\n",
       "      <td>Iris-setosa</td>\n",
       "    </tr>\n",
       "    <tr>\n",
       "      <th>3</th>\n",
       "      <td>4</td>\n",
       "      <td>4.6</td>\n",
       "      <td>3.1</td>\n",
       "      <td>1.5</td>\n",
       "      <td>0.2</td>\n",
       "      <td>Iris-setosa</td>\n",
       "    </tr>\n",
       "    <tr>\n",
       "      <th>4</th>\n",
       "      <td>5</td>\n",
       "      <td>5.0</td>\n",
       "      <td>3.6</td>\n",
       "      <td>1.4</td>\n",
       "      <td>0.2</td>\n",
       "      <td>Iris-setosa</td>\n",
       "    </tr>\n",
       "    <tr>\n",
       "      <th>...</th>\n",
       "      <td>...</td>\n",
       "      <td>...</td>\n",
       "      <td>...</td>\n",
       "      <td>...</td>\n",
       "      <td>...</td>\n",
       "      <td>...</td>\n",
       "    </tr>\n",
       "    <tr>\n",
       "      <th>145</th>\n",
       "      <td>146</td>\n",
       "      <td>6.7</td>\n",
       "      <td>3.0</td>\n",
       "      <td>5.2</td>\n",
       "      <td>2.3</td>\n",
       "      <td>Iris-virginica</td>\n",
       "    </tr>\n",
       "    <tr>\n",
       "      <th>146</th>\n",
       "      <td>147</td>\n",
       "      <td>6.3</td>\n",
       "      <td>2.5</td>\n",
       "      <td>5.0</td>\n",
       "      <td>1.9</td>\n",
       "      <td>Iris-virginica</td>\n",
       "    </tr>\n",
       "    <tr>\n",
       "      <th>147</th>\n",
       "      <td>148</td>\n",
       "      <td>6.5</td>\n",
       "      <td>3.0</td>\n",
       "      <td>5.2</td>\n",
       "      <td>2.0</td>\n",
       "      <td>Iris-virginica</td>\n",
       "    </tr>\n",
       "    <tr>\n",
       "      <th>148</th>\n",
       "      <td>149</td>\n",
       "      <td>6.2</td>\n",
       "      <td>3.4</td>\n",
       "      <td>5.4</td>\n",
       "      <td>2.3</td>\n",
       "      <td>Iris-virginica</td>\n",
       "    </tr>\n",
       "    <tr>\n",
       "      <th>149</th>\n",
       "      <td>150</td>\n",
       "      <td>5.9</td>\n",
       "      <td>3.0</td>\n",
       "      <td>5.1</td>\n",
       "      <td>1.8</td>\n",
       "      <td>Iris-virginica</td>\n",
       "    </tr>\n",
       "  </tbody>\n",
       "</table>\n",
       "<p>150 rows × 6 columns</p>\n",
       "</div>"
      ],
      "text/plain": [
       "      Id  SepalLengthCm  SepalWidthCm  PetalLengthCm  PetalWidthCm  \\\n",
       "0      1            5.1           3.5            1.4           0.2   \n",
       "1      2            4.9           3.0            1.4           0.2   \n",
       "2      3            4.7           3.2            1.3           0.2   \n",
       "3      4            4.6           3.1            1.5           0.2   \n",
       "4      5            5.0           3.6            1.4           0.2   \n",
       "..   ...            ...           ...            ...           ...   \n",
       "145  146            6.7           3.0            5.2           2.3   \n",
       "146  147            6.3           2.5            5.0           1.9   \n",
       "147  148            6.5           3.0            5.2           2.0   \n",
       "148  149            6.2           3.4            5.4           2.3   \n",
       "149  150            5.9           3.0            5.1           1.8   \n",
       "\n",
       "            Species  \n",
       "0       Iris-setosa  \n",
       "1       Iris-setosa  \n",
       "2       Iris-setosa  \n",
       "3       Iris-setosa  \n",
       "4       Iris-setosa  \n",
       "..              ...  \n",
       "145  Iris-virginica  \n",
       "146  Iris-virginica  \n",
       "147  Iris-virginica  \n",
       "148  Iris-virginica  \n",
       "149  Iris-virginica  \n",
       "\n",
       "[150 rows x 6 columns]"
      ]
     },
     "execution_count": 2,
     "metadata": {},
     "output_type": "execute_result"
    }
   ],
   "source": [
    "df=pd.read_csv(\"/kaggle/input/iris/Iris.csv\")\n",
    "df"
   ]
  },
  {
   "cell_type": "code",
   "execution_count": 3,
   "id": "c90701d3",
   "metadata": {
    "execution": {
     "iopub.execute_input": "2023-12-29T09:22:22.624981Z",
     "iopub.status.busy": "2023-12-29T09:22:22.624282Z",
     "iopub.status.idle": "2023-12-29T09:22:22.633787Z",
     "shell.execute_reply": "2023-12-29T09:22:22.632830Z"
    },
    "papermill": {
     "duration": 0.016124,
     "end_time": "2023-12-29T09:22:22.635824",
     "exception": false,
     "start_time": "2023-12-29T09:22:22.619700",
     "status": "completed"
    },
    "tags": []
   },
   "outputs": [
    {
     "data": {
      "text/plain": [
       "Id               0\n",
       "SepalLengthCm    0\n",
       "SepalWidthCm     0\n",
       "PetalLengthCm    0\n",
       "PetalWidthCm     0\n",
       "Species          0\n",
       "dtype: int64"
      ]
     },
     "execution_count": 3,
     "metadata": {},
     "output_type": "execute_result"
    }
   ],
   "source": [
    "df.isnull().sum()"
   ]
  },
  {
   "cell_type": "code",
   "execution_count": 4,
   "id": "a2fa4c8f",
   "metadata": {
    "execution": {
     "iopub.execute_input": "2023-12-29T09:22:22.644561Z",
     "iopub.status.busy": "2023-12-29T09:22:22.644182Z",
     "iopub.status.idle": "2023-12-29T09:22:22.655995Z",
     "shell.execute_reply": "2023-12-29T09:22:22.654997Z"
    },
    "papermill": {
     "duration": 0.018646,
     "end_time": "2023-12-29T09:22:22.658152",
     "exception": false,
     "start_time": "2023-12-29T09:22:22.639506",
     "status": "completed"
    },
    "tags": []
   },
   "outputs": [
    {
     "data": {
      "text/plain": [
       "array([[3.5, 1.4],\n",
       "       [3. , 1.4],\n",
       "       [3.2, 1.3],\n",
       "       [3.1, 1.5],\n",
       "       [3.6, 1.4],\n",
       "       [3.9, 1.7],\n",
       "       [3.4, 1.4],\n",
       "       [3.4, 1.5],\n",
       "       [2.9, 1.4],\n",
       "       [3.1, 1.5],\n",
       "       [3.7, 1.5],\n",
       "       [3.4, 1.6],\n",
       "       [3. , 1.4],\n",
       "       [3. , 1.1],\n",
       "       [4. , 1.2],\n",
       "       [4.4, 1.5],\n",
       "       [3.9, 1.3],\n",
       "       [3.5, 1.4],\n",
       "       [3.8, 1.7],\n",
       "       [3.8, 1.5],\n",
       "       [3.4, 1.7],\n",
       "       [3.7, 1.5],\n",
       "       [3.6, 1. ],\n",
       "       [3.3, 1.7],\n",
       "       [3.4, 1.9],\n",
       "       [3. , 1.6],\n",
       "       [3.4, 1.6],\n",
       "       [3.5, 1.5],\n",
       "       [3.4, 1.4],\n",
       "       [3.2, 1.6],\n",
       "       [3.1, 1.6],\n",
       "       [3.4, 1.5],\n",
       "       [4.1, 1.5],\n",
       "       [4.2, 1.4],\n",
       "       [3.1, 1.5],\n",
       "       [3.2, 1.2],\n",
       "       [3.5, 1.3],\n",
       "       [3.1, 1.5],\n",
       "       [3. , 1.3],\n",
       "       [3.4, 1.5],\n",
       "       [3.5, 1.3],\n",
       "       [2.3, 1.3],\n",
       "       [3.2, 1.3],\n",
       "       [3.5, 1.6],\n",
       "       [3.8, 1.9],\n",
       "       [3. , 1.4],\n",
       "       [3.8, 1.6],\n",
       "       [3.2, 1.4],\n",
       "       [3.7, 1.5],\n",
       "       [3.3, 1.4],\n",
       "       [3.2, 4.7],\n",
       "       [3.2, 4.5],\n",
       "       [3.1, 4.9],\n",
       "       [2.3, 4. ],\n",
       "       [2.8, 4.6],\n",
       "       [2.8, 4.5],\n",
       "       [3.3, 4.7],\n",
       "       [2.4, 3.3],\n",
       "       [2.9, 4.6],\n",
       "       [2.7, 3.9],\n",
       "       [2. , 3.5],\n",
       "       [3. , 4.2],\n",
       "       [2.2, 4. ],\n",
       "       [2.9, 4.7],\n",
       "       [2.9, 3.6],\n",
       "       [3.1, 4.4],\n",
       "       [3. , 4.5],\n",
       "       [2.7, 4.1],\n",
       "       [2.2, 4.5],\n",
       "       [2.5, 3.9],\n",
       "       [3.2, 4.8],\n",
       "       [2.8, 4. ],\n",
       "       [2.5, 4.9],\n",
       "       [2.8, 4.7],\n",
       "       [2.9, 4.3],\n",
       "       [3. , 4.4],\n",
       "       [2.8, 4.8],\n",
       "       [3. , 5. ],\n",
       "       [2.9, 4.5],\n",
       "       [2.6, 3.5],\n",
       "       [2.4, 3.8],\n",
       "       [2.4, 3.7],\n",
       "       [2.7, 3.9],\n",
       "       [2.7, 5.1],\n",
       "       [3. , 4.5],\n",
       "       [3.4, 4.5],\n",
       "       [3.1, 4.7],\n",
       "       [2.3, 4.4],\n",
       "       [3. , 4.1],\n",
       "       [2.5, 4. ],\n",
       "       [2.6, 4.4],\n",
       "       [3. , 4.6],\n",
       "       [2.6, 4. ],\n",
       "       [2.3, 3.3],\n",
       "       [2.7, 4.2],\n",
       "       [3. , 4.2],\n",
       "       [2.9, 4.2],\n",
       "       [2.9, 4.3],\n",
       "       [2.5, 3. ],\n",
       "       [2.8, 4.1],\n",
       "       [3.3, 6. ],\n",
       "       [2.7, 5.1],\n",
       "       [3. , 5.9],\n",
       "       [2.9, 5.6],\n",
       "       [3. , 5.8],\n",
       "       [3. , 6.6],\n",
       "       [2.5, 4.5],\n",
       "       [2.9, 6.3],\n",
       "       [2.5, 5.8],\n",
       "       [3.6, 6.1],\n",
       "       [3.2, 5.1],\n",
       "       [2.7, 5.3],\n",
       "       [3. , 5.5],\n",
       "       [2.5, 5. ],\n",
       "       [2.8, 5.1],\n",
       "       [3.2, 5.3],\n",
       "       [3. , 5.5],\n",
       "       [3.8, 6.7],\n",
       "       [2.6, 6.9],\n",
       "       [2.2, 5. ],\n",
       "       [3.2, 5.7],\n",
       "       [2.8, 4.9],\n",
       "       [2.8, 6.7],\n",
       "       [2.7, 4.9],\n",
       "       [3.3, 5.7],\n",
       "       [3.2, 6. ],\n",
       "       [2.8, 4.8],\n",
       "       [3. , 4.9],\n",
       "       [2.8, 5.6],\n",
       "       [3. , 5.8],\n",
       "       [2.8, 6.1],\n",
       "       [3.8, 6.4],\n",
       "       [2.8, 5.6],\n",
       "       [2.8, 5.1],\n",
       "       [2.6, 5.6],\n",
       "       [3. , 6.1],\n",
       "       [3.4, 5.6],\n",
       "       [3.1, 5.5],\n",
       "       [3. , 4.8],\n",
       "       [3.1, 5.4],\n",
       "       [3.1, 5.6],\n",
       "       [3.1, 5.1],\n",
       "       [2.7, 5.1],\n",
       "       [3.2, 5.9],\n",
       "       [3.3, 5.7],\n",
       "       [3. , 5.2],\n",
       "       [2.5, 5. ],\n",
       "       [3. , 5.2],\n",
       "       [3.4, 5.4],\n",
       "       [3. , 5.1]])"
      ]
     },
     "execution_count": 4,
     "metadata": {},
     "output_type": "execute_result"
    }
   ],
   "source": [
    "x=df.iloc[:,[2,3]].values\n",
    "x"
   ]
  },
  {
   "cell_type": "code",
   "execution_count": 5,
   "id": "5e37de3e",
   "metadata": {
    "execution": {
     "iopub.execute_input": "2023-12-29T09:22:22.667310Z",
     "iopub.status.busy": "2023-12-29T09:22:22.666920Z",
     "iopub.status.idle": "2023-12-29T09:22:24.456768Z",
     "shell.execute_reply": "2023-12-29T09:22:24.455508Z"
    },
    "papermill": {
     "duration": 1.798037,
     "end_time": "2023-12-29T09:22:24.460070",
     "exception": false,
     "start_time": "2023-12-29T09:22:22.662033",
     "status": "completed"
    },
    "tags": []
   },
   "outputs": [],
   "source": [
    "import warnings\n",
    "warnings.filterwarnings('ignore')\n",
    "from sklearn.cluster import KMeans\n",
    "w=[]\n",
    "for i in range(1,11):\n",
    "    km=KMeans(n_clusters=i,init='k-means++',random_state=0)\n",
    "    km.fit(x)\n",
    "    w.append(km.inertia_)\n",
    "    "
   ]
  },
  {
   "cell_type": "code",
   "execution_count": null,
   "id": "32036ae9",
   "metadata": {
    "execution": {
     "iopub.execute_input": "2023-12-29T09:13:54.933503Z",
     "iopub.status.busy": "2023-12-29T09:13:54.933070Z",
     "iopub.status.idle": "2023-12-29T09:13:54.939294Z",
     "shell.execute_reply": "2023-12-29T09:13:54.937858Z",
     "shell.execute_reply.started": "2023-12-29T09:13:54.933469Z"
    },
    "papermill": {
     "duration": 0.003802,
     "end_time": "2023-12-29T09:22:24.468433",
     "exception": false,
     "start_time": "2023-12-29T09:22:24.464631",
     "status": "completed"
    },
    "tags": []
   },
   "outputs": [],
   "source": []
  },
  {
   "cell_type": "markdown",
   "id": "2be27c35",
   "metadata": {
    "papermill": {
     "duration": 0.003674,
     "end_time": "2023-12-29T09:22:24.475969",
     "exception": false,
     "start_time": "2023-12-29T09:22:24.472295",
     "status": "completed"
    },
    "tags": []
   },
   "source": []
  },
  {
   "cell_type": "code",
   "execution_count": 6,
   "id": "b3e6d609",
   "metadata": {
    "execution": {
     "iopub.execute_input": "2023-12-29T09:22:24.485088Z",
     "iopub.status.busy": "2023-12-29T09:22:24.484703Z",
     "iopub.status.idle": "2023-12-29T09:22:25.075258Z",
     "shell.execute_reply": "2023-12-29T09:22:25.074254Z"
    },
    "papermill": {
     "duration": 0.597948,
     "end_time": "2023-12-29T09:22:25.077640",
     "exception": false,
     "start_time": "2023-12-29T09:22:24.479692",
     "status": "completed"
    },
    "tags": []
   },
   "outputs": [
    {
     "data": {
      "image/png": "[encoded data removed]",
      "text/plain": [
       "<Figure size 640x480 with 1 Axes>"
      ]
     },
     "metadata": {},
     "output_type": "display_data"
    }
   ],
   "source": [
    "import matplotlib.pyplot as plt\n",
    "import seaborn as sns\n",
    "import plotly as py\n",
    "import plotly.graph_objs as go\n",
    "from sklearn.cluster import KMeans\n",
    "plt.plot(range(1,11),w)\n",
    "plt.title(\"The Elbow method\")\n",
    "plt.xlabel('no of clusters')\n",
    "plt.ylabel('w')\n",
    "plt.show()"
   ]
  },
  {
   "cell_type": "code",
   "execution_count": 7,
   "id": "e9214d52",
   "metadata": {
    "execution": {
     "iopub.execute_input": "2023-12-29T09:22:25.087616Z",
     "iopub.status.busy": "2023-12-29T09:22:25.087221Z",
     "iopub.status.idle": "2023-12-29T09:22:25.104711Z",
     "shell.execute_reply": "2023-12-29T09:22:25.103809Z"
    },
    "papermill": {
     "duration": 0.025402,
     "end_time": "2023-12-29T09:22:25.107303",
     "exception": false,
     "start_time": "2023-12-29T09:22:25.081901",
     "status": "completed"
    },
    "tags": []
   },
   "outputs": [],
   "source": [
    "kmeansmodel=KMeans(n_clusters=3,init='k-means++',random_state=0)\n",
    "y_kmeans=kmeansmodel.fit_predict(x)"
   ]
  },
  {
   "cell_type": "code",
   "execution_count": 8,
   "id": "c73c94a1",
   "metadata": {
    "execution": {
     "iopub.execute_input": "2023-12-29T09:22:25.118142Z",
     "iopub.status.busy": "2023-12-29T09:22:25.117289Z",
     "iopub.status.idle": "2023-12-29T09:22:25.474318Z",
     "shell.execute_reply": "2023-12-29T09:22:25.473233Z"
    },
    "papermill": {
     "duration": 0.364612,
     "end_time": "2023-12-29T09:22:25.476548",
     "exception": false,
     "start_time": "2023-12-29T09:22:25.111936",
     "status": "completed"
    },
    "tags": []
   },
   "outputs": [
    {
     "data": {
      "image/png": "[encoded data removed]",
      "text/plain": [
       "<Figure size 640x480 with 1 Axes>"
      ]
     },
     "metadata": {},
     "output_type": "display_data"
    }
   ],
   "source": [
    "plt.scatter(x[y_kmeans == 0, 0], x[y_kmeans == 0, 1], s = 100, c = 'red', label = 'Cluster 1')\n",
    "plt.scatter(x[y_kmeans == 1, 0], x[y_kmeans == 1, 1], s = 100, c = 'blue', label = 'Cluster 2')\n",
    "plt.scatter(x[y_kmeans == 2, 0], x[y_kmeans == 2, 1], s = 100, c = 'green', label = 'Cluster 3')\n",
    "plt.scatter(km.cluster_centers_[:, 0], km.cluster_centers_[:, 1], s = 300,marker='X', c = 'yellow', label = 'Centroids')\n",
    "plt.title('Iris Species')\n",
    "plt.xlabel('SepalWidth')\n",
    "plt.ylabel('PetalLength')\n",
    "plt.legend()\n",
    "plt.show()"
   ]
  }
 ],
 "metadata": {
  "kaggle": {
   "accelerator": "none",
   "dataSources": [
    {
     "datasetId": 19,
     "sourceId": 420,
     "sourceType": "datasetVersion"
    }
   ],
   "dockerImageVersionId": 30626,
   "isGpuEnabled": false,
   "isInternetEnabled": true,
   "language": "python",
   "sourceType": "notebook"
  },
  "kernelspec": {
   "display_name": "Python 3",
   "language": "python",
   "name": "python3"
  },
  "language_info": {
   "codemirror_mode": {
    "name": "ipython",
    "version": 3
   },
   "file_extension": ".py",
   "mimetype": "text/x-python",
   "name": "python",
   "nbconvert_exporter": "python",
   "pygments_lexer": "ipython3",
   "version": "3.10.12"
  },
  "papermill": {
   "default_parameters": {},
   "duration": 6.97449,
   "end_time": "2023-12-29T09:22:26.101046",
   "environment_variables": {},
   "exception": null,
   "input_path": "__notebook__.ipynb",
   "output_path": "__notebook__.ipynb",
   "parameters": {},
   "start_time": "2023-12-29T09:22:19.126556",
   "version": "2.4.0"
  }
 },
 "nbformat": 4,
 "nbformat_minor": 5
}
