{
  "nbformat": 4,
  "nbformat_minor": 0,
  "metadata": {
    "colab": {
      "provenance": [],
      "toc_visible": true,
      "authorship_tag": "ABX9TyOgnp0bgqpux7tRbFrnxWN3",
      "include_colab_link": true
    },
    "kernelspec": {
      "name": "python3",
      "display_name": "Python 3"
    },
    "language_info": {
      "name": "python"
    }
  },
  "cells": [
    {
      "cell_type": "markdown",
      "metadata": {
        "id": "view-in-github",
        "colab_type": "text"
      },
      "source": [
        "<a href=\"https://colab.research.google.com/github/Siva22Raman/Machine-Learning/blob/main/Pytorch_Neural_Networks(03_01_2024).ipynb\" target=\"_parent\"><img src=\"https://colab.research.google.com/assets/colab-badge.svg\" alt=\"Open In Colab\"/></a>"
      ]
    },
    {
      "cell_type": "code",
      "execution_count": 1,
      "metadata": {
        "id": "ouzEELolmubx"
      },
      "outputs": [],
      "source": [
        "# prompt: import torch,torchdatasets,transform,nn,optim\n",
        "\n",
        "import torch\n",
        "import torchvision.datasets as datasets\n",
        "import torch.nn as nn\n",
        "import torch.optim as optim\n",
        "import torchvision.transforms as transforms\n"
      ]
    },
    {
      "cell_type": "code",
      "source": [
        "transform=transforms.Compose([transforms.ToTensor(),transforms.Normalize((0.1307,),(0.3081,))])"
      ],
      "metadata": {
        "id": "bqE3u6EuoYtx"
      },
      "execution_count": 2,
      "outputs": []
    },
    {
      "cell_type": "code",
      "source": [
        "train_dataset=datasets.MNIST('data',train=True,download=True,transform=transform)"
      ],
      "metadata": {
        "colab": {
          "base_uri": "https://localhost:8080/"
        },
        "id": "tNCVJdRDp0Ry",
        "outputId": "1e945f8c-ae3a-46b4-e35e-f278a15641c5"
      },
      "execution_count": 3,
      "outputs": [
        {
          "output_type": "stream",
          "name": "stdout",
          "text": [
            "Downloading http://yann.lecun.com/exdb/mnist/train-images-idx3-ubyte.gz\n",
            "Downloading http://yann.lecun.com/exdb/mnist/train-images-idx3-ubyte.gz to data/MNIST/raw/train-images-idx3-ubyte.gz\n"
          ]
        },
        {
          "output_type": "stream",
          "name": "stderr",
          "text": [
            "100%|██████████| 9912422/9912422 [00:00<00:00, 111471400.65it/s]\n"
          ]
        },
        {
          "output_type": "stream",
          "name": "stdout",
          "text": [
            "Extracting data/MNIST/raw/train-images-idx3-ubyte.gz to data/MNIST/raw\n",
            "\n",
            "Downloading http://yann.lecun.com/exdb/mnist/train-labels-idx1-ubyte.gz\n",
            "Downloading http://yann.lecun.com/exdb/mnist/train-labels-idx1-ubyte.gz to data/MNIST/raw/train-labels-idx1-ubyte.gz\n"
          ]
        },
        {
          "output_type": "stream",
          "name": "stderr",
          "text": [
            "100%|██████████| 28881/28881 [00:00<00:00, 22084903.16it/s]\n"
          ]
        },
        {
          "output_type": "stream",
          "name": "stdout",
          "text": [
            "Extracting data/MNIST/raw/train-labels-idx1-ubyte.gz to data/MNIST/raw\n",
            "\n",
            "Downloading http://yann.lecun.com/exdb/mnist/t10k-images-idx3-ubyte.gz\n",
            "Downloading http://yann.lecun.com/exdb/mnist/t10k-images-idx3-ubyte.gz to data/MNIST/raw/t10k-images-idx3-ubyte.gz\n"
          ]
        },
        {
          "output_type": "stream",
          "name": "stderr",
          "text": [
            "100%|██████████| 1648877/1648877 [00:00<00:00, 58330449.35it/s]"
          ]
        },
        {
          "output_type": "stream",
          "name": "stdout",
          "text": [
            "Extracting data/MNIST/raw/t10k-images-idx3-ubyte.gz to data/MNIST/raw\n"
          ]
        },
        {
          "output_type": "stream",
          "name": "stderr",
          "text": [
            "\n"
          ]
        },
        {
          "output_type": "stream",
          "name": "stdout",
          "text": [
            "\n",
            "Downloading http://yann.lecun.com/exdb/mnist/t10k-labels-idx1-ubyte.gz\n",
            "Downloading http://yann.lecun.com/exdb/mnist/t10k-labels-idx1-ubyte.gz to data/MNIST/raw/t10k-labels-idx1-ubyte.gz\n"
          ]
        },
        {
          "output_type": "stream",
          "name": "stderr",
          "text": [
            "100%|██████████| 4542/4542 [00:00<00:00, 4292593.23it/s]\n"
          ]
        },
        {
          "output_type": "stream",
          "name": "stdout",
          "text": [
            "Extracting data/MNIST/raw/t10k-labels-idx1-ubyte.gz to data/MNIST/raw\n",
            "\n"
          ]
        }
      ]
    },
    {
      "cell_type": "code",
      "source": [
        "train_loader=torch.utils.data.DataLoader(train_dataset,batch_size=64,shuffle=True)"
      ],
      "metadata": {
        "id": "f8vZCplEqU_7"
      },
      "execution_count": 4,
      "outputs": []
    },
    {
      "cell_type": "code",
      "source": [
        "class Neural(nn.Module):\n",
        "  def __init__(self):\n",
        "    super(Neural,self).__init__()\n",
        "    self.fc1=nn.Linear(28*28,128)\n",
        "    self.fc2=nn.Linear(128,64)\n",
        "    self.fc3=nn.Linear(64,10)\n",
        "  def forward(self,x):\n",
        "    x=x.view(-1,28*28)\n",
        "    x=torch.relu(self.fc1(x))\n",
        "    x=torch.relu(self.fc2(x))\n",
        "    x=self.fc3(x)\n",
        "    return x\n",
        "net=Neural()"
      ],
      "metadata": {
        "id": "j6MWElXsrAYu"
      },
      "execution_count": 5,
      "outputs": []
    },
    {
      "cell_type": "code",
      "source": [
        "criterion=nn.CrossEntropyLoss()\n",
        "optimizer=optim.SGD(net.parameters(),lr=0.01,momentum=0.5)"
      ],
      "metadata": {
        "id": "sfVe1BqS2W7i"
      },
      "execution_count": 6,
      "outputs": []
    },
    {
      "cell_type": "code",
      "source": [
        "num_epochs=10\n",
        "for epoch in range(num_epochs):\n",
        "  for batch_idx,(data,target) in enumerate (train_loader):\n",
        "    optimizer.zero_grad()\n",
        "    output=net(data)\n",
        "    loss =criterion(output,target)\n",
        "    loss.backward()\n",
        "    optimizer.step()\n",
        "    if batch_idx % 100==0:\n",
        "      print('Train Epoch: {} [{}/{} ({:.0f}%)]\\tLoss: {:.6f}'.format(\n",
        "                epoch, batch_idx * len(data), len(train_loader.dataset),\n",
        "                100. * batch_idx / len(train_loader), loss.item()))\n"
      ],
      "metadata": {
        "colab": {
          "base_uri": "https://localhost:8080/"
        },
        "id": "Fu2u5es52sVl",
        "outputId": "0bf58b06-cc4d-4732-fc0b-979a2fa7f2f5"
      },
      "execution_count": 7,
      "outputs": [
        {
          "output_type": "stream",
          "name": "stdout",
          "text": [
            "Train Epoch: 0 [0/60000 (0%)]\tLoss: 2.279434\n",
            "Train Epoch: 0 [6400/60000 (11%)]\tLoss: 1.455086\n",
            "Train Epoch: 0 [12800/60000 (21%)]\tLoss: 0.547930\n",
            "Train Epoch: 0 [19200/60000 (32%)]\tLoss: 0.290008\n",
            "Train Epoch: 0 [25600/60000 (43%)]\tLoss: 0.334444\n",
            "Train Epoch: 0 [32000/60000 (53%)]\tLoss: 0.345424\n",
            "Train Epoch: 0 [38400/60000 (64%)]\tLoss: 0.413701\n",
            "Train Epoch: 0 [44800/60000 (75%)]\tLoss: 0.230881\n",
            "Train Epoch: 0 [51200/60000 (85%)]\tLoss: 0.275287\n",
            "Train Epoch: 0 [57600/60000 (96%)]\tLoss: 0.437106\n",
            "Train Epoch: 1 [0/60000 (0%)]\tLoss: 0.238533\n",
            "Train Epoch: 1 [6400/60000 (11%)]\tLoss: 0.222439\n",
            "Train Epoch: 1 [12800/60000 (21%)]\tLoss: 0.269831\n",
            "Train Epoch: 1 [19200/60000 (32%)]\tLoss: 0.218500\n",
            "Train Epoch: 1 [25600/60000 (43%)]\tLoss: 0.131419\n",
            "Train Epoch: 1 [32000/60000 (53%)]\tLoss: 0.171501\n",
            "Train Epoch: 1 [38400/60000 (64%)]\tLoss: 0.346423\n",
            "Train Epoch: 1 [44800/60000 (75%)]\tLoss: 0.259173\n",
            "Train Epoch: 1 [51200/60000 (85%)]\tLoss: 0.200193\n",
            "Train Epoch: 1 [57600/60000 (96%)]\tLoss: 0.134460\n",
            "Train Epoch: 2 [0/60000 (0%)]\tLoss: 0.175718\n",
            "Train Epoch: 2 [6400/60000 (11%)]\tLoss: 0.094012\n",
            "Train Epoch: 2 [12800/60000 (21%)]\tLoss: 0.376397\n",
            "Train Epoch: 2 [19200/60000 (32%)]\tLoss: 0.179766\n",
            "Train Epoch: 2 [25600/60000 (43%)]\tLoss: 0.067467\n",
            "Train Epoch: 2 [32000/60000 (53%)]\tLoss: 0.123141\n",
            "Train Epoch: 2 [38400/60000 (64%)]\tLoss: 0.148845\n",
            "Train Epoch: 2 [44800/60000 (75%)]\tLoss: 0.150065\n",
            "Train Epoch: 2 [51200/60000 (85%)]\tLoss: 0.193133\n",
            "Train Epoch: 2 [57600/60000 (96%)]\tLoss: 0.106664\n",
            "Train Epoch: 3 [0/60000 (0%)]\tLoss: 0.194726\n",
            "Train Epoch: 3 [6400/60000 (11%)]\tLoss: 0.093534\n",
            "Train Epoch: 3 [12800/60000 (21%)]\tLoss: 0.156924\n",
            "Train Epoch: 3 [19200/60000 (32%)]\tLoss: 0.130894\n",
            "Train Epoch: 3 [25600/60000 (43%)]\tLoss: 0.198787\n",
            "Train Epoch: 3 [32000/60000 (53%)]\tLoss: 0.261142\n",
            "Train Epoch: 3 [38400/60000 (64%)]\tLoss: 0.232340\n",
            "Train Epoch: 3 [44800/60000 (75%)]\tLoss: 0.092174\n",
            "Train Epoch: 3 [51200/60000 (85%)]\tLoss: 0.146754\n",
            "Train Epoch: 3 [57600/60000 (96%)]\tLoss: 0.181325\n",
            "Train Epoch: 4 [0/60000 (0%)]\tLoss: 0.129939\n",
            "Train Epoch: 4 [6400/60000 (11%)]\tLoss: 0.056944\n",
            "Train Epoch: 4 [12800/60000 (21%)]\tLoss: 0.073260\n",
            "Train Epoch: 4 [19200/60000 (32%)]\tLoss: 0.032840\n",
            "Train Epoch: 4 [25600/60000 (43%)]\tLoss: 0.062675\n",
            "Train Epoch: 4 [32000/60000 (53%)]\tLoss: 0.042130\n",
            "Train Epoch: 4 [38400/60000 (64%)]\tLoss: 0.118554\n",
            "Train Epoch: 4 [44800/60000 (75%)]\tLoss: 0.098260\n",
            "Train Epoch: 4 [51200/60000 (85%)]\tLoss: 0.103945\n",
            "Train Epoch: 4 [57600/60000 (96%)]\tLoss: 0.165298\n",
            "Train Epoch: 5 [0/60000 (0%)]\tLoss: 0.068927\n",
            "Train Epoch: 5 [6400/60000 (11%)]\tLoss: 0.045213\n",
            "Train Epoch: 5 [12800/60000 (21%)]\tLoss: 0.049120\n",
            "Train Epoch: 5 [19200/60000 (32%)]\tLoss: 0.072937\n",
            "Train Epoch: 5 [25600/60000 (43%)]\tLoss: 0.127418\n",
            "Train Epoch: 5 [32000/60000 (53%)]\tLoss: 0.071806\n",
            "Train Epoch: 5 [38400/60000 (64%)]\tLoss: 0.088373\n",
            "Train Epoch: 5 [44800/60000 (75%)]\tLoss: 0.047184\n",
            "Train Epoch: 5 [51200/60000 (85%)]\tLoss: 0.149073\n",
            "Train Epoch: 5 [57600/60000 (96%)]\tLoss: 0.226339\n",
            "Train Epoch: 6 [0/60000 (0%)]\tLoss: 0.094406\n",
            "Train Epoch: 6 [6400/60000 (11%)]\tLoss: 0.059357\n",
            "Train Epoch: 6 [12800/60000 (21%)]\tLoss: 0.022309\n",
            "Train Epoch: 6 [19200/60000 (32%)]\tLoss: 0.081166\n",
            "Train Epoch: 6 [25600/60000 (43%)]\tLoss: 0.106878\n",
            "Train Epoch: 6 [32000/60000 (53%)]\tLoss: 0.156257\n",
            "Train Epoch: 6 [38400/60000 (64%)]\tLoss: 0.126989\n",
            "Train Epoch: 6 [44800/60000 (75%)]\tLoss: 0.092099\n",
            "Train Epoch: 6 [51200/60000 (85%)]\tLoss: 0.085848\n",
            "Train Epoch: 6 [57600/60000 (96%)]\tLoss: 0.076244\n",
            "Train Epoch: 7 [0/60000 (0%)]\tLoss: 0.194212\n",
            "Train Epoch: 7 [6400/60000 (11%)]\tLoss: 0.021743\n",
            "Train Epoch: 7 [12800/60000 (21%)]\tLoss: 0.017594\n",
            "Train Epoch: 7 [19200/60000 (32%)]\tLoss: 0.068262\n",
            "Train Epoch: 7 [25600/60000 (43%)]\tLoss: 0.151183\n",
            "Train Epoch: 7 [32000/60000 (53%)]\tLoss: 0.024732\n",
            "Train Epoch: 7 [38400/60000 (64%)]\tLoss: 0.099668\n",
            "Train Epoch: 7 [44800/60000 (75%)]\tLoss: 0.024544\n",
            "Train Epoch: 7 [51200/60000 (85%)]\tLoss: 0.071401\n",
            "Train Epoch: 7 [57600/60000 (96%)]\tLoss: 0.047757\n",
            "Train Epoch: 8 [0/60000 (0%)]\tLoss: 0.181465\n",
            "Train Epoch: 8 [6400/60000 (11%)]\tLoss: 0.053231\n",
            "Train Epoch: 8 [12800/60000 (21%)]\tLoss: 0.061486\n",
            "Train Epoch: 8 [19200/60000 (32%)]\tLoss: 0.222444\n",
            "Train Epoch: 8 [25600/60000 (43%)]\tLoss: 0.017304\n",
            "Train Epoch: 8 [32000/60000 (53%)]\tLoss: 0.019057\n",
            "Train Epoch: 8 [38400/60000 (64%)]\tLoss: 0.112140\n",
            "Train Epoch: 8 [44800/60000 (75%)]\tLoss: 0.022692\n",
            "Train Epoch: 8 [51200/60000 (85%)]\tLoss: 0.015395\n",
            "Train Epoch: 8 [57600/60000 (96%)]\tLoss: 0.074331\n",
            "Train Epoch: 9 [0/60000 (0%)]\tLoss: 0.052140\n",
            "Train Epoch: 9 [6400/60000 (11%)]\tLoss: 0.077577\n",
            "Train Epoch: 9 [12800/60000 (21%)]\tLoss: 0.075986\n",
            "Train Epoch: 9 [19200/60000 (32%)]\tLoss: 0.048961\n",
            "Train Epoch: 9 [25600/60000 (43%)]\tLoss: 0.041915\n",
            "Train Epoch: 9 [32000/60000 (53%)]\tLoss: 0.013445\n",
            "Train Epoch: 9 [38400/60000 (64%)]\tLoss: 0.056544\n",
            "Train Epoch: 9 [44800/60000 (75%)]\tLoss: 0.071952\n",
            "Train Epoch: 9 [51200/60000 (85%)]\tLoss: 0.052101\n",
            "Train Epoch: 9 [57600/60000 (96%)]\tLoss: 0.055407\n"
          ]
        }
      ]
    },
    {
      "cell_type": "code",
      "source": [
        "test_dataset=datasets.MNIST('data',train=False,download=True,transform=transform)\n",
        "test_loader=torch.utils.data.DataLoader(test_dataset,batch_size=1000,shuffle=True)\n",
        "correct=0\n",
        "total=0\n",
        "with torch.no_grad():\n",
        "  output=net(data)\n",
        "  _,predicted=torch.max(output.data,1)\n",
        "  total+=target.size(0)\n",
        "  correct+=(predicted==target).sum().item()"
      ],
      "metadata": {
        "id": "QT67CqK-3RfQ"
      },
      "execution_count": 8,
      "outputs": []
    },
    {
      "cell_type": "code",
      "source": [
        "print('Accuracy of the network on the 10000 test images: %d %%' % (\n",
        "    100 * correct / total))"
      ],
      "metadata": {
        "colab": {
          "base_uri": "https://localhost:8080/"
        },
        "id": "vke_CvU43TwP",
        "outputId": "f7dd0154-9f33-4cc9-9bb9-d3ea91e01cef"
      },
      "execution_count": 9,
      "outputs": [
        {
          "output_type": "stream",
          "name": "stdout",
          "text": [
            "Accuracy of the network on the 10000 test images: 100 %\n"
          ]
        }
      ]
    }
  ]
}