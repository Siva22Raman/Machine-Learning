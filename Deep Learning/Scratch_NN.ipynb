{
  "cells": [
    {
      "cell_type": "code",
      "execution_count": 1,
      "metadata": {
        "colab": {
          "base_uri": "https://localhost:8080/"
        },
        "id": "1SW_z3w9dUxR",
        "outputId": "0ac25d91-eaaa-4d59-8538-03e16df36791"
      },
      "outputs": [
        {
          "ename": "ModuleNotFoundError",
          "evalue": "No module named 'sklearn'",
          "output_type": "error",
          "traceback": [
            "\u001b[1;31m---------------------------------------------------------------------------\u001b[0m",
            "\u001b[1;31mModuleNotFoundError\u001b[0m                       Traceback (most recent call last)",
            "\u001b[1;32mc:\\Users\\Siva2\\OneDrive\\Documents\\GitHub\\Machine-Learning\\Deep Learning\\Scratch_NN.ipynb Cell 1\u001b[0m line \u001b[0;36m2\n\u001b[0;32m      <a href='vscode-notebook-cell:/c%3A/Users/Siva2/OneDrive/Documents/GitHub/Machine-Learning/Deep%20Learning/Scratch_NN.ipynb#W0sZmlsZQ%3D%3D?line=0'>1</a>\u001b[0m \u001b[39mimport\u001b[39;00m \u001b[39mnumpy\u001b[39;00m \u001b[39mas\u001b[39;00m \u001b[39mnp\u001b[39;00m\n\u001b[1;32m----> <a href='vscode-notebook-cell:/c%3A/Users/Siva2/OneDrive/Documents/GitHub/Machine-Learning/Deep%20Learning/Scratch_NN.ipynb#W0sZmlsZQ%3D%3D?line=1'>2</a>\u001b[0m \u001b[39mfrom\u001b[39;00m \u001b[39msklearn\u001b[39;00m\u001b[39m.\u001b[39;00m\u001b[39mdatasets\u001b[39;00m \u001b[39mimport\u001b[39;00m load_breast_cancer\n\u001b[0;32m      <a href='vscode-notebook-cell:/c%3A/Users/Siva2/OneDrive/Documents/GitHub/Machine-Learning/Deep%20Learning/Scratch_NN.ipynb#W0sZmlsZQ%3D%3D?line=2'>3</a>\u001b[0m \u001b[39mfrom\u001b[39;00m \u001b[39msklearn\u001b[39;00m\u001b[39m.\u001b[39;00m\u001b[39mmodel_selection\u001b[39;00m \u001b[39mimport\u001b[39;00m train_test_split\n\u001b[0;32m      <a href='vscode-notebook-cell:/c%3A/Users/Siva2/OneDrive/Documents/GitHub/Machine-Learning/Deep%20Learning/Scratch_NN.ipynb#W0sZmlsZQ%3D%3D?line=3'>4</a>\u001b[0m \u001b[39mfrom\u001b[39;00m \u001b[39msklearn\u001b[39;00m\u001b[39m.\u001b[39;00m\u001b[39mpreprocessing\u001b[39;00m \u001b[39mimport\u001b[39;00m StandardScaler\n",
            "\u001b[1;31mModuleNotFoundError\u001b[0m: No module named 'sklearn'"
          ]
        }
      ],
      "source": [
        "import numpy as np\n",
        "from sklearn.datasets import load_breast_cancer\n",
        "from sklearn.model_selection import train_test_split\n",
        "from sklearn.preprocessing import StandardScaler\n",
        "\n",
        "# Load the breast cancer dataset\n",
        "data = load_breast_cancer()\n",
        "X, y = data.data, data.target\n",
        "\n",
        "# Preprocess the data: scale features and split into train/test sets\n",
        "scaler = StandardScaler()\n",
        "X = scaler.fit_transform(X)\n",
        "X_train, X_test, y_train, y_test = train_test_split(X, y, test_size=0.2, random_state=42)\n",
        "\n",
        "# Define the neural network architecture\n",
        "class NeuralNetwork:\n",
        "    def __init__(self, input_size, hidden_size, output_size):\n",
        "        self.weights_input_hidden = np.random.randn(input_size, hidden_size)\n",
        "        self.bias_input_hidden = np.zeros((1, hidden_size))\n",
        "        self.weights_hidden_output = np.random.randn(hidden_size, output_size)\n",
        "        self.bias_hidden_output = np.zeros((1, output_size))\n",
        "\n",
        "    def sigmoid(self, x):\n",
        "        return 1 / (1 + np.exp(-x))\n",
        "\n",
        "    def sigmoid_derivative(self, x):\n",
        "        return x * (1 - x)\n",
        "\n",
        "    def forward_pass(self, X):\n",
        "        self.hidden_output = self.sigmoid(np.dot(X, self.weights_input_hidden) + self.bias_input_hidden)\n",
        "        self.predicted_output = self.sigmoid(np.dot(self.hidden_output, self.weights_hidden_output) + self.bias_hidden_output)\n",
        "        return self.predicted_output\n",
        "\n",
        "    def backward_pass(self, X, y, output):\n",
        "        error = y - output\n",
        "        d_predicted_output = error * self.sigmoid_derivative(output)\n",
        "\n",
        "        error_hidden_layer = d_predicted_output.dot(self.weights_hidden_output.T)\n",
        "        d_hidden_output = error_hidden_layer * self.sigmoid_derivative(self.hidden_output)\n",
        "\n",
        "        self.weights_hidden_output += self.hidden_output.T.dot(d_predicted_output)\n",
        "        self.bias_hidden_output += np.sum(d_predicted_output, axis=0, keepdims=True)\n",
        "\n",
        "        self.weights_input_hidden += X.T.dot(d_hidden_output)\n",
        "        self.bias_input_hidden += np.sum(d_hidden_output, axis=0, keepdims=True)\n",
        "\n",
        "    def train(self, X, y, epochs):\n",
        "        for epoch in range(epochs):\n",
        "            output = self.forward_pass(X)\n",
        "            self.backward_pass(X, y, output)\n",
        "\n",
        "    def predict(self, X):\n",
        "        return np.round(self.forward_pass(X))\n",
        "\n",
        "# Set up and train the neural network\n",
        "input_size = X_train.shape[1]\n",
        "hidden_size = 8  # You can adjust this size\n",
        "output_size = 1  # Binary classification\n",
        "\n",
        "nn = NeuralNetwork(input_size, hidden_size, output_size)\n",
        "nn.train(X_train, y_train.reshape(-1, 1), epochs=1000)\n",
        "\n",
        "# Predict and calculate accuracy on the test set\n",
        "predictions = nn.predict(X_test)\n",
        "accuracy = np.mean(predictions == y_test.reshape(-1, 1)) * 100\n",
        "print(f\"Accuracy: {accuracy:.2f}%\")\n",
        "\n"
      ]
    }
  ],
  "metadata": {
    "colab": {
      "provenance": []
    },
    "kernelspec": {
      "display_name": "Python 3",
      "name": "python3"
    },
    "language_info": {
      "codemirror_mode": {
        "name": "ipython",
        "version": 3
      },
      "file_extension": ".py",
      "mimetype": "text/x-python",
      "name": "python",
      "nbconvert_exporter": "python",
      "pygments_lexer": "ipython3",
      "version": "3.11.3"
    }
  },
  "nbformat": 4,
  "nbformat_minor": 0
}
